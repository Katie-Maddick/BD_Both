{
 "cells": [
  {
   "cell_type": "code",
   "execution_count": 159,
   "id": "adc295d8-1cd7-4703-b044-b707b6a3d7db",
   "metadata": {},
   "outputs": [
    {
     "ename": "IndexError",
     "evalue": "list index out of range",
     "output_type": "error",
     "traceback": [
      "\u001b[1;31m---------------------------------------------------------------------------\u001b[0m",
      "\u001b[1;31mIndexError\u001b[0m                                Traceback (most recent call last)",
      "Cell \u001b[1;32mIn[159], line 37\u001b[0m\n\u001b[0;32m     35\u001b[0m \u001b[38;5;28;01mfor\u001b[39;00m j \u001b[38;5;129;01min\u001b[39;00m \u001b[38;5;28mrange\u001b[39m(\u001b[38;5;241m0\u001b[39m,\u001b[38;5;28mlen\u001b[39m(codes)\u001b[38;5;241m-\u001b[39m\u001b[38;5;241m1\u001b[39m):\n\u001b[0;32m     36\u001b[0m     visitLen \u001b[38;5;241m=\u001b[39m \u001b[38;5;28mlen\u001b[39m(visited)\n\u001b[1;32m---> 37\u001b[0m     \u001b[38;5;28;01mif\u001b[39;00m numFrom[i] \u001b[38;5;241m==\u001b[39m codes[j] \u001b[38;5;129;01mand\u001b[39;00m visited[visitLen] \u001b[38;5;241m!=\u001b[39m numFrom[i]:\n\u001b[0;32m     38\u001b[0m         visited\u001b[38;5;241m.\u001b[39mappend(codes[j])\n",
      "\u001b[1;31mIndexError\u001b[0m: list index out of range"
     ]
    }
   ],
   "source": [
    "# Import\n",
    "import pandas as pd\n",
    "from collections import Counter\n",
    "\n",
    "# Read in data\n",
    "noErrDatTime = pd.read_csv('AComp_Passenger_data_no_error_DateTime.csv')\n",
    "passDat = pd.read_csv('AComp_Passenger_data.csv')\n",
    "\n",
    "# Read in and assign column names\n",
    "# Passengar data\n",
    "cols = ['PassengerID','FlightID','From','To','DepTime','TotalTime']\n",
    "noErr = pd.read_csv('AComp_Passenger_data_no_error.csv', names=cols)\n",
    "\n",
    "# Top 30\n",
    "cols = ['AirportName','Code','Latitude','Longitude']\n",
    "top30 = pd.read_csv('Top30_airports_LatLong.csv', names=cols)\n",
    "\n",
    "# Count number of each instance\n",
    "numFrom = noErr['From'].tolist()\n",
    "\n",
    "def count_words(numFrom):\n",
    "    counter = Counter()\n",
    "    for To in numFrom:\n",
    "        words = To.split()\n",
    "        counter.update(words)\n",
    "    return counter\n",
    "\n",
    "counter = count_words(numFrom)\n",
    "\n",
    "# Get list of airports\n",
    "codes = top30['Code'].tolist()\n",
    "visited = [] \n",
    "\n",
    "for i in range(0,len(numFrom)-1):\n",
    "    for j in range(0,len(codes)-1):\n",
    "        visitLen = len(visited)\n",
    "        if numFrom[i] == codes[j] and visited[visitLen] != numFrom[i]:\n",
    "            visited.append(codes[j])"
   ]
  },
  {
   "cell_type": "code",
   "execution_count": null,
   "id": "bba3ca86-39f5-418f-beea-7a1784d73d47",
   "metadata": {},
   "outputs": [],
   "source": []
  }
 ],
 "metadata": {
  "kernelspec": {
   "display_name": "Python 3 (ipykernel)",
   "language": "python",
   "name": "python3"
  },
  "language_info": {
   "codemirror_mode": {
    "name": "ipython",
    "version": 3
   },
   "file_extension": ".py",
   "mimetype": "text/x-python",
   "name": "python",
   "nbconvert_exporter": "python",
   "pygments_lexer": "ipython3",
   "version": "3.12.4"
  }
 },
 "nbformat": 4,
 "nbformat_minor": 5
}
